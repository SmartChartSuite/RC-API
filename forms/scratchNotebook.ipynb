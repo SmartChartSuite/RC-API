{
 "cells": [
  {
   "cell_type": "code",
   "execution_count": 15,
   "source": [
    "import requests\n",
    "import json\n",
    "import os"
   ],
   "outputs": [],
   "metadata": {}
  },
  {
   "cell_type": "code",
   "execution_count": 13,
   "source": [
    "with open('/Users/astevens37-gtri/Documents/GitHub/synthea/output/fhir/Alton320_Quitzon246_fbc4bd3a-501d-4816-ac88-db8ebf21fbe1.json', 'r') as f:\n",
    "    post = json.load(f)"
   ],
   "outputs": [],
   "metadata": {}
  },
  {
   "cell_type": "code",
   "execution_count": 14,
   "source": [
    "url = 'https://gt-apps.hdap.gatech.edu/hapifhirtrifolia/fhir'\n",
    "requests.post(url, json=post)"
   ],
   "outputs": [
    {
     "output_type": "execute_result",
     "data": {
      "text/plain": [
       "<Response [200]>"
      ]
     },
     "metadata": {},
     "execution_count": 14
    }
   ],
   "metadata": {}
  },
  {
   "cell_type": "code",
   "execution_count": 22,
   "source": [
    "for filename in os.listdir('/Users/astevens37-gtri/Documents/GitHub/synthea/output/fhir/'):\n",
    "    if filename.endswith(\".json\"):\n",
    "        with open('/Users/astevens37-gtri/Documents/GitHub/synthea/output/fhir/'+filename, 'r') as f:\n",
    "            post = json.load(f)\n",
    "        print(requests.post('https://gt-apps.hdap.gatech.edu/hapifhirtrifolia/fhir', json=post))"
   ],
   "outputs": [
    {
     "output_type": "stream",
     "name": "stdout",
     "text": [
      "<Response [200]>\n",
      "<Response [200]>\n",
      "<Response [200]>\n",
      "<Response [200]>\n",
      "<Response [200]>\n",
      "<Response [200]>\n",
      "<Response [200]>\n",
      "<Response [200]>\n",
      "<Response [200]>\n",
      "<Response [200]>\n",
      "<Response [200]>\n",
      "<Response [200]>\n",
      "<Response [200]>\n",
      "<Response [200]>\n",
      "<Response [200]>\n",
      "<Response [504]>\n",
      "<Response [200]>\n",
      "<Response [200]>\n",
      "<Response [200]>\n",
      "<Response [200]>\n",
      "<Response [200]>\n",
      "<Response [200]>\n",
      "<Response [200]>\n",
      "<Response [200]>\n",
      "<Response [200]>\n",
      "<Response [504]>\n",
      "<Response [504]>\n",
      "<Response [200]>\n",
      "<Response [200]>\n",
      "<Response [200]>\n",
      "<Response [200]>\n",
      "<Response [200]>\n",
      "<Response [200]>\n",
      "<Response [200]>\n",
      "<Response [200]>\n",
      "<Response [200]>\n",
      "<Response [200]>\n",
      "<Response [200]>\n",
      "<Response [200]>\n",
      "<Response [200]>\n",
      "<Response [200]>\n",
      "<Response [200]>\n",
      "<Response [200]>\n",
      "<Response [200]>\n",
      "<Response [200]>\n",
      "<Response [504]>\n",
      "<Response [200]>\n",
      "<Response [200]>\n",
      "<Response [504]>\n",
      "<Response [200]>\n",
      "<Response [200]>\n",
      "<Response [200]>\n",
      "<Response [200]>\n",
      "<Response [504]>\n",
      "<Response [200]>\n",
      "<Response [200]>\n",
      "<Response [200]>\n",
      "<Response [504]>\n",
      "<Response [200]>\n",
      "<Response [200]>\n",
      "<Response [200]>\n",
      "<Response [200]>\n",
      "<Response [200]>\n",
      "<Response [200]>\n",
      "<Response [200]>\n",
      "<Response [200]>\n",
      "<Response [200]>\n",
      "<Response [200]>\n",
      "<Response [200]>\n",
      "<Response [504]>\n",
      "<Response [200]>\n",
      "<Response [200]>\n",
      "<Response [200]>\n",
      "<Response [200]>\n",
      "<Response [200]>\n",
      "<Response [200]>\n",
      "<Response [200]>\n",
      "<Response [200]>\n",
      "<Response [200]>\n",
      "<Response [200]>\n",
      "<Response [200]>\n",
      "<Response [200]>\n",
      "<Response [200]>\n",
      "<Response [200]>\n",
      "<Response [200]>\n",
      "<Response [200]>\n",
      "<Response [200]>\n",
      "<Response [200]>\n",
      "<Response [200]>\n",
      "<Response [200]>\n",
      "<Response [200]>\n",
      "<Response [200]>\n",
      "<Response [200]>\n",
      "<Response [200]>\n",
      "<Response [200]>\n",
      "<Response [200]>\n",
      "<Response [200]>\n",
      "<Response [200]>\n",
      "<Response [200]>\n",
      "<Response [200]>\n",
      "<Response [200]>\n",
      "<Response [504]>\n",
      "<Response [200]>\n",
      "<Response [200]>\n",
      "<Response [200]>\n",
      "<Response [200]>\n",
      "<Response [200]>\n",
      "<Response [200]>\n",
      "<Response [504]>\n",
      "<Response [200]>\n",
      "<Response [200]>\n",
      "<Response [504]>\n",
      "<Response [200]>\n",
      "<Response [200]>\n",
      "<Response [200]>\n",
      "<Response [200]>\n",
      "<Response [200]>\n",
      "<Response [200]>\n",
      "<Response [200]>\n",
      "<Response [200]>\n",
      "<Response [200]>\n",
      "<Response [200]>\n",
      "<Response [200]>\n",
      "<Response [200]>\n",
      "<Response [200]>\n",
      "<Response [200]>\n",
      "<Response [200]>\n",
      "<Response [200]>\n",
      "<Response [200]>\n",
      "<Response [200]>\n",
      "<Response [200]>\n",
      "<Response [200]>\n",
      "<Response [200]>\n",
      "<Response [200]>\n",
      "<Response [200]>\n",
      "<Response [200]>\n"
     ]
    }
   ],
   "metadata": {}
  },
  {
   "cell_type": "markdown",
   "source": [
    "504 codes for transaction bundles 16, 26, 27, 46, 49, 54, 58, 70, 102, 109, 112\n",
    "\n"
   ],
   "metadata": {}
  },
  {
   "cell_type": "code",
   "execution_count": null,
   "source": [
    "import ast\n",
    "\n",
    "result = '[{\\\"result\\\":\\\"Concept {Code { code: 9279-1, system: http://loinc.org, version: null, display: null }}\\\",\\\"name\\\":\\\"respiratory_rate_concept\\\",\\\"location\\\":\\\"[17:1]\\\",\\\"resultType\\\":\\\"Concept\\\"},{\\\"result\\\":\\\"Concept {Code { code: 8867-4, system: http://loinc.org, version: null, display: null }}\\\",\\\"name\\\":\\\"heart_rate_concept\\\",\\\"location\\\":\\\"[20:1]\\\",\\\"resultType\\\":\\\"Concept\\\"},{\\\"result\\\":\\\"Concept {Code { code: 2708-6, system: http://loinc.org, version: null, display: null }}\\\",\\\"name\\\":\\\"o2_saturation_in_arterial_blood_concept\\\",\\\"location\\\":\\\"[23:1]\\\",\\\"resultType\\\":\\\"Concept\\\"},{\\\"result\\\":\\\"Concept {Code { code: 8310-5, system: http://loinc.org, version: null, display: null }}\\\",\\\"name\\\":\\\"body_temp_concept\\\",\\\"location\\\":\\\"[26:1]\\\",\\\"resultType\\\":\\\"Concept\\\"},{\\\"result\\\":\\\"Concept {Code { code: 8302-2, system: http://loinc.org, version: null, display: null }}\\\",\\\"name\\\":\\\"body_height_concept\\\",\\\"location\\\":\\\"[29:1]\\\",\\\"resultType\\\":\\\"Concept\\\"},{\\\"result\\\":\\\"Concept {Code { code: 59576-9, system: http://loinc.org, version: null, display: null }}\\\",\\\"name\\\":\\\"bmi_percentile_concept\\\",\\\"location\\\":\\\"[32:1]\\\",\\\"resultType\\\":\\\"Concept\\\"},{\\\"result\\\":\\\"Concept {Code { code: 29463-7, system: http://loinc.org, version: null, display: null }}\\\",\\\"name\\\":\\\"body_weight_concept\\\",\\\"location\\\":\\\"[35:1]\\\",\\\"resultType\\\":\\\"Concept\\\"},{\\\"result\\\":\\\"Concept {Code { code: 39156-5, system: http://loinc.org, version: null, display: null }}\\\",\\\"name\\\":\\\"bmi_concept\\\",\\\"location\\\":\\\"[38:1]\\\",\\\"resultType\\\":\\\"Concept\\\"},{\\\"result\\\":\\\"Concept {Code { code: 59408-5, system: http://loinc.org, version: null, display: null }}\\\",\\\"name\\\":\\\"o2_saturation_concept\\\",\\\"location\\\":\\\"[41:1]\\\",\\\"resultType\\\":\\\"Concept\\\"},{\\\"result\\\":\\\"Concept {Code { code: 8480-6, system: http://loinc.org, version: null, display: null }}\\\",\\\"name\\\":\\\"systolic_blood_pressure_concept\\\",\\\"location\\\":\\\"[44:1]\\\",\\\"resultType\\\":\\\"Concept\\\"},{\\\"result\\\":\\\"Concept {Code { code: 8462-4, system: http://loinc.org, version: null, display: null }}\\\",\\\"name\\\":\\\"diastolic_blood_pressure_concept\\\",\\\"location\\\":\\\"[47:1]\\\",\\\"resultType\\\":\\\"Concept\\\"},{\\\"result\\\":\\\"Concept {Code { code: 8478-0, system: http://loinc.org, version: null, display: null }}\\\",\\\"name\\\":\\\"mean_blood_pressure_concept\\\",\\\"location\\\":\\\"[50:1]\\\",\\\"resultType\\\":\\\"Concept\\\"},{\\\"result\\\":\\\"Concept {Code { code: 3150-0, system: http://loinc.org, version: null, display: null }}\\\",\\\"name\\\":\\\"inhaled_o2_concentration_concept\\\",\\\"location\\\":\\\"[53:1]\\\",\\\"resultType\\\":\\\"Concept\\\"},{\\\"result\\\":\\\"Concept {Code { code: 3151-8, system: http://loinc.org, version: null, display: null }}\\\",\\\"name\\\":\\\"inhaled_o2_flow_rate_concept\\\",\\\"location\\\":\\\"[56:1]\\\",\\\"resultType\\\":\\\"Concept\\\"},{\\\"result\\\":\\\"[]\\\",\\\"name\\\":\\\"respiratory_rate\\\",\\\"location\\\":\\\"[62:1]\\\",\\\"resultType\\\":\\\"FhirBundleCursorStu3\\\"},{\\\"result\\\":\\\"[]\\\",\\\"name\\\":\\\"heart_rate\\\",\\\"location\\\":\\\"[63:1]\\\",\\\"resultType\\\":\\\"FhirBundleCursorStu3\\\"},{\\\"result\\\":\\\"[]\\\",\\\"name\\\":\\\"o2_saturation_in_arterial_blood\\\",\\\"location\\\":\\\"[64:1]\\\",\\\"resultType\\\":\\\"FhirBundleCursorStu3\\\"},{\\\"result\\\":\\\"[]\\\",\\\"name\\\":\\\"body_temp\\\",\\\"location\\\":\\\"[65:1]\\\",\\\"resultType\\\":\\\"FhirBundleCursorStu3\\\"},{\\\"result\\\":\\\"[]\\\",\\\"name\\\":\\\"body_height\\\",\\\"location\\\":\\\"[66:1]\\\",\\\"resultType\\\":\\\"FhirBundleCursorStu3\\\"},{\\\"result\\\":\\\"[]\\\",\\\"name\\\":\\\"bmi_percentile\\\",\\\"location\\\":\\\"[67:1]\\\",\\\"resultType\\\":\\\"FhirBundleCursorStu3\\\"},{\\\"result\\\":\\\"[]\\\",\\\"name\\\":\\\"body_weight\\\",\\\"location\\\":\\\"[68:1]\\\",\\\"resultType\\\":\\\"FhirBundleCursorStu3\\\"},{\\\"result\\\":\\\"[]\\\",\\\"name\\\":\\\"bmi\\\",\\\"location\\\":\\\"[69:1]\\\",\\\"resultType\\\":\\\"FhirBundleCursorStu3\\\"},{\\\"result\\\":\\\"[]\\\",\\\"name\\\":\\\"o2_saturation\\\",\\\"location\\\":\\\"[70:1]\\\",\\\"resultType\\\":\\\"FhirBundleCursorStu3\\\"},{\\\"result\\\":\\\"[]\\\",\\\"name\\\":\\\"systolic_blood_pressure\\\",\\\"location\\\":\\\"[71:1]\\\",\\\"resultType\\\":\\\"FhirBundleCursorStu3\\\"},{\\\"result\\\":\\\"[]\\\",\\\"name\\\":\\\"diastolic_blood_pressure\\\",\\\"location\\\":\\\"[72:1]\\\",\\\"resultType\\\":\\\"FhirBundleCursorStu3\\\"},{\\\"result\\\":\\\"[]\\\",\\\"name\\\":\\\"mean_blood_pressure\\\",\\\"location\\\":\\\"[73:1]\\\",\\\"resultType\\\":\\\"FhirBundleCursorStu3\\\"},{\\\"result\\\":\\\"[]\\\",\\\"name\\\":\\\"inhaled_o2_concentration\\\",\\\"location\\\":\\\"[74:1]\\\",\\\"resultType\\\":\\\"FhirBundleCursorStu3\\\"},{\\\"result\\\":\\\"[{  \\\"resourceType\\\": \\\"Observation\\\",  \\\"id\\\": \\\"16009534\\\",  \\\"identifier\\\": [    {      \\\"value\\\": \\\"3151-8\\\"    }  ],  \\\"status\\\": \\\"final\\\",  \\\"code\\\": {    \\\"coding\\\": [      {        \\\"system\\\": \\\"http://loinc.org\\\",        \\\"code\\\": \\\"3151-8\\\",        \\\"display\\\": \\\"If nasal cannula -give O2 rate\\\"      }    ]  },  \\\"subject\\\": {    \\\"reference\\\": \\\"Patient/23907\\\",    \\\"display\\\": \\\"BRANT WEIHER\\\"  },  \\\"context\\\": {    \\\"reference\\\": \\\"Encounter/3224\\\"  },  \\\"effectiveDateTime\\\": \\\"2155-02-21T14:55:00+00:00\\\",  \\\"valueQuantity\\\": {    \\\"value\\\": 4.0,    \\\"unit\\\": \\\"liter per minute\\\",    \\\"system\\\": \\\"http://unitsofmeasure.org\\\",    \\\"code\\\": \\\"L/min\\\"  }}, {  \\\"resourceType\\\": \\\"Observation\\\",  \\\"id\\\": \\\"16009586\\\",  \\\"identifier\\\": [    {      \\\"value\\\": \\\"3151-8\\\"    }  ],  \\\"status\\\": \\\"final\\\",  \\\"code\\\": {    \\\"coding\\\": [      {        \\\"system\\\": \\\"http://loinc.org\\\",        \\\"code\\\": \\\"3151-8\\\",        \\\"display\\\": \\\"If nasal cannula -give O2 rate\\\"      }    ]  },  \\\"subject\\\": {    \\\"reference\\\": \\\"Patient/23907\\\",    \\\"display\\\": \\\"BRANT WEIHER\\\"  },  \\\"context\\\": {    \\\"reference\\\": \\\"Encounter/3224\\\"  },  \\\"effectiveDateTime\\\": \\\"2155-03-20T14:49:00+00:00\\\",  \\\"valueQuantity\\\": {    \\\"value\\\": 40.0,    \\\"unit\\\": \\\"liter per minute\\\",    \\\"system\\\": \\\"http://unitsofmeasure.org\\\",    \\\"code\\\": \\\"L/min\\\"  }}]\\\",\\\"name\\\":\\\"inhaled_o2_flow_rate\\\",\\\"location\\\":\\\"[75:1]\\\",\\\"resultType\\\":\\\"FhirBundleCursorStu3\\\"}]'\n",
    "ast.literal_eval(result)"
   ],
   "outputs": [],
   "metadata": {}
  }
 ],
 "metadata": {
  "orig_nbformat": 4,
  "language_info": {
   "name": "python",
   "version": "3.8.10",
   "mimetype": "text/x-python",
   "codemirror_mode": {
    "name": "ipython",
    "version": 3
   },
   "pygments_lexer": "ipython3",
   "nbconvert_exporter": "python",
   "file_extension": ".py"
  },
  "kernelspec": {
   "name": "python3",
   "display_name": "Python 3.8.10 64-bit ('base': conda)"
  },
  "interpreter": {
   "hash": "f1d90bacbe4b857f31c6ddd6fca7f7e3369eaba5f3d91dd49b5c3e0ccc8ec0dd"
  }
 },
 "nbformat": 4,
 "nbformat_minor": 2
}